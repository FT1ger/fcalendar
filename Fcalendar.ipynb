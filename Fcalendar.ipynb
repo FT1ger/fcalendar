{
 "cells": [
  {
   "cell_type": "code",
   "execution_count": 110,
   "metadata": {},
   "outputs": [],
   "source": [
    "import datetime\n",
    "import zoneinfo\n",
    "import email\n",
    "from email.parser import BytesParser\n",
    "from email import policy\n",
    "filepath = 'Your Potential Timetable.eml'\n",
    "import re\n",
    "import uuid\n",
    "from tkinter import *\n",
    "from tkinter import ttk"
   ]
  },
  {
   "cell_type": "code",
   "execution_count": 111,
   "metadata": {},
   "outputs": [],
   "source": [
    "with open(filepath) as email_file:\n",
    "    email_message = email.message_from_file(email_file)\n",
    "content = (email_message.get_payload())"
   ]
  },
  {
   "cell_type": "code",
   "execution_count": 112,
   "metadata": {},
   "outputs": [],
   "source": [
    "content1 = content.replace('=\\n','')\n",
    "new_p = re.compile('<td.*?>.*?</td>')"
   ]
  },
  {
   "cell_type": "code",
   "execution_count": 113,
   "metadata": {},
   "outputs": [],
   "source": [
    "lst1 = new_p.findall(content1)\n",
    "# print(lst1)\n",
    "lst1 = lst1[:-1]\n",
    "# print(len(lst1))"
   ]
  },
  {
   "cell_type": "code",
   "execution_count": 114,
   "metadata": {},
   "outputs": [],
   "source": [
    "clear_p = re.compile('</*?td.*?>')\n",
    "# clear_p2 = re.compile('</td>')\n",
    "for i in range(len(lst1)):\n",
    "    lst1[i] = re.sub(clear_p,'',lst1[i])\n",
    "# print(lst1)"
   ]
  },
  {
   "cell_type": "code",
   "execution_count": 115,
   "metadata": {},
   "outputs": [],
   "source": [
    "# reshape the list to a 2d array\n",
    "lst2 = []\n",
    "for i in range(9):\n",
    "    lst2.append([])\n",
    "    for j in range(len(lst1)//9):\n",
    "        lst2[i].append(lst1[9*j+i])"
   ]
  },
  {
   "cell_type": "code",
   "execution_count": 116,
   "metadata": {},
   "outputs": [],
   "source": [
    "# sort all the codes in list\n",
    "# lst = ['status','class','section','subject','course','seats open','duration&locations','dates','campus']\n",
    "# sometime one course only have one duration, to fix this, add another layer of structure\n",
    "# sometime eml has different form, try to fix it\n",
    "# still need more form from different email\n",
    "time_loc = lst2[6]\n",
    "for i in range(len(time_loc)):\n",
    "    if \"<br />\" in time_loc[i]:\n",
    "        time_loc[i] = time_loc[i].split('<br />')\n",
    "    elif \"<br>\" in time_loc[i]:\n",
    "        time_loc[i] = time_loc[i].split('<br>')\n",
    "    elif \"<br/>\" in time_loc[i]:\n",
    "        time_loc[i] = time_loc[i].split('<br/>')\n",
    "    else:\n",
    "        time_loc[i] = [time_loc[i]]\n",
    "    \n",
    "# print(time_loc)\n",
    "# time_loc[i][j]"
   ]
  },
  {
   "cell_type": "code",
   "execution_count": 117,
   "metadata": {},
   "outputs": [],
   "source": [
    "dura = lst2[7]\n",
    "for i in range(len(dura)):\n",
    "    if \"<br />\" in dura[i]:\n",
    "        dura[i] = dura[i].split('<br />')\n",
    "    elif \"<br>\" in dura[i]:\n",
    "        dura[i] = dura[i].split('<br>')\n",
    "    elif \"<br/>\" in dura[i]:\n",
    "        dura[i] = dura[i].split('<br/>')\n",
    "    else:\n",
    "        dura[i] = [dura[i]]\n"
   ]
  },
  {
   "cell_type": "code",
   "execution_count": 118,
   "metadata": {},
   "outputs": [
    {
     "name": "stdout",
     "output_type": "stream",
     "text": [
      "[['3/02/2025 - 28/04/2025', '5/02/2025 - 30/04/2025', '6/02/2025 - 1/05/2025'], ['3/02/2025 - 28/04/2025', '5/03/2025 - 30/04/2025', '26/02/2025 - 26/02/2025', '5/02/2025 - 19/02/2025'], ['6/02/2025 - 1/05/2025'], ['6/02/2025 - 1/05/2025'], ['24/04/2025 - 24/04/2025', '10/04/2025 - 10/04/2025', '27/03/2025 - 27/03/2025', '13/03/2025 - 13/03/2025', '27/02/2025 - 27/02/2025', '13/02/2025 - 13/02/2025'], ['17/03/2025 - 14/04/2025', '28/04/2025 - 28/04/2025', '3/02/2025 - 3/03/2025', '22/04/2025 - 22/04/2025', '11/03/2025 - 11/03/2025'], ['14/04/2025 - 14/04/2025', '31/03/2025 - 31/03/2025', '17/03/2025 - 17/03/2025', '3/03/2025 - 3/03/2025', '17/02/2025 - 17/02/2025', '3/02/2025 - 3/02/2025'], ['24/03/2025 - 24/03/2025']]\n"
     ]
    }
   ],
   "source": [
    "print(dura)"
   ]
  },
  {
   "cell_type": "code",
   "execution_count": 119,
   "metadata": {},
   "outputs": [],
   "source": [
    "# start time & end time -> datetime.datetime\n",
    "def duration(duradate:str):\n",
    "    duradate = duradate.split(' - ')\n",
    "    start = datetime.datetime.strptime(duradate[0], '%d/%m/%Y')\n",
    "    end = datetime.datetime.strptime(duradate[1], '%d/%m/%Y')\n",
    "    return(start,end)\n",
    "\n",
    "dura_date = []\n",
    "for i in range(len(dura)):\n",
    "    for j in range(len(dura[i])):\n",
    "        dura[i][j] = duration(dura[i][j])\n",
    "\n",
    "# print(dura)\n",
    "# dura[i][j][0] = starttime,dura[i][j][1] = endtime\n",
    "# i = course,j = time duration"
   ]
  },
  {
   "cell_type": "code",
   "execution_count": 120,
   "metadata": {},
   "outputs": [],
   "source": [
    "# print(time_loc[0][0])"
   ]
  },
  {
   "cell_type": "code",
   "execution_count": 121,
   "metadata": {},
   "outputs": [],
   "source": [
    "# seperate time & location\n",
    "p2 = r\"^([MTWFS][a-z]*)\\s([\\d:amp\\s]+)-([\\d:amp\\s]+)-\\s(.+)$\"\n",
    "match = re.match(p2,time_loc[0][0])\n",
    "# print(match.group(3))"
   ]
  },
  {
   "cell_type": "code",
   "execution_count": 122,
   "metadata": {},
   "outputs": [],
   "source": [
    "\n",
    "weeks = []\n",
    "time_start = []\n",
    "time_end = []\n",
    "location = []\n",
    "for i in range(len(time_loc)):\n",
    "    weeks.append([])\n",
    "    time_start.append([])\n",
    "    time_end.append([])\n",
    "    location.append([])\n",
    "    for j in range(len(time_loc[i])):\n",
    "        match = re.match(p2,time_loc[i][j])\n",
    "        weeks[i].append(match.group(1))\n",
    "        time_start[i].append(match.group(2).strip())\n",
    "        time_end[i].append(match.group(3).strip())\n",
    "        location[i].append(match.group(4))\n"
   ]
  },
  {
   "cell_type": "code",
   "execution_count": 123,
   "metadata": {},
   "outputs": [],
   "source": [
    "# start = datetime.datetime(2021,2,28,17,0,0)\n",
    "# start.strftime('%Y%m%dT%H%M%S')"
   ]
  },
  {
   "cell_type": "code",
   "execution_count": 124,
   "metadata": {},
   "outputs": [],
   "source": [
    "# create event for one course\n",
    "def create_event(course:str,start_date,end_date,start_time,end_time,location,campus):\n",
    "    day = start_date\n",
    "    course_events = ''\n",
    "    while day <= end_date:\n",
    "        event = \"\\nBEGIN:VEVENT\"\n",
    "        event += f\"\\nSUMMARY:{course}\"\n",
    "        start = datetime.datetime.strptime((str(day.date())+' '+start_time),'%Y-%m-%d %I:%M%p')\n",
    "        event += f\"\\nDTSTART:{start.strftime('%Y%m%dT%H%M%S')}\"\n",
    "        end = datetime.datetime.strptime((str(day.date())+' '+end_time),'%Y-%m-%d %I:%M%p')\n",
    "        event += f\"\\nDTEND:{end.strftime('%Y%m%dT%H%M%S')}\"\n",
    "        event += f\"\\nUID:{uuid.uuid4()}\"\n",
    "        event += f\"\\nCREATED:{datetime.datetime.now().strftime('%Y%m%dT%H%M%S')}\"\n",
    "        event += f\"\\nDESCRIPTION:{campus}\"\n",
    "        event += f\"\\nLOCATION:{location}\"\n",
    "        day += datetime.timedelta(days = 7)\n",
    "        event += \"\\nEND:VEVENT\"\n",
    "        course_events += event\n",
    "    return course_events"
   ]
  },
  {
   "cell_type": "code",
   "execution_count": 125,
   "metadata": {},
   "outputs": [],
   "source": [
    "with open('Your_timetable.ics','w') as f:\n",
    "    cal = 'BEGIN:VCALENDAR'\n",
    "    for i in range(len(lst2[3])):\n",
    "        for j in range(len(dura[i])):\n",
    "            cal += create_event(lst2[3][i]+' '+ lst2[4][i],dura[i][j][0],dura[i][j][1],time_start[i][j],time_end[i][j],location[i][j],lst2[8][i])\n",
    "    cal += '\\nEND:VCALENDAR'\n",
    "    f.write(cal)"
   ]
  },
  {
   "cell_type": "code",
   "execution_count": 126,
   "metadata": {},
   "outputs": [],
   "source": [
    "#cal = create_event(df['subject'][0]+df['course'][0],dura[0][0][0],dura[0][0][1],time_start[0][0],time_end[0][0],location[0][0],df['campus'][0])\n",
    "#with open('Your_timetable.ics','wb') as f:\n",
    "#    f.write(cal.to_ical())"
   ]
  }
 ],
 "metadata": {
  "kernelspec": {
   "display_name": "base",
   "language": "python",
   "name": "python3"
  },
  "language_info": {
   "codemirror_mode": {
    "name": "ipython",
    "version": 3
   },
   "file_extension": ".py",
   "mimetype": "text/x-python",
   "name": "python",
   "nbconvert_exporter": "python",
   "pygments_lexer": "ipython3",
   "version": "3.12.7"
  }
 },
 "nbformat": 4,
 "nbformat_minor": 2
}
