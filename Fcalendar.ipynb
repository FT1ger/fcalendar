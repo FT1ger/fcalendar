{
 "cells": [
  {
   "cell_type": "code",
   "execution_count": 45,
   "metadata": {},
   "outputs": [],
   "source": [
    "import datetime\n",
    "import zoneinfo\n",
    "import email\n",
    "from email.parser import BytesParser\n",
    "from email import policy\n",
    "filepath = 'Your Potential Timetable.eml'\n",
    "import re\n",
    "import uuid\n",
    "from tkinter import *\n",
    "from tkinter import ttk"
   ]
  },
  {
   "cell_type": "code",
   "execution_count": 21,
   "metadata": {},
   "outputs": [],
   "source": [
    "with open(filepath) as email_file:\n",
    "    email_message = email.message_from_file(email_file)\n",
    "content = (email_message.get_payload())"
   ]
  },
  {
   "cell_type": "code",
   "execution_count": 22,
   "metadata": {},
   "outputs": [],
   "source": [
    "content1 = content.replace('=\\n','')\n",
    "new_p = re.compile('<td.*?>.*?</td>')"
   ]
  },
  {
   "cell_type": "code",
   "execution_count": 23,
   "metadata": {},
   "outputs": [
    {
     "name": "stdout",
     "output_type": "stream",
     "text": [
      "['<td>Enrolled</td>', '<td>33076</td>', '<td>WR03</td>', '<td>COMP SCI</td>', '<td>7211</td>', \"<td style=3D'border: 1px solid red; background-color: #febebe; font-weight: 500;'>0</td>\", '<td>M 5:00pm - 7:00pm - Ingkarni Wardli 234<br />W 5:00pm - 7:00pm - Ingkarni Wardli 234<br />F 5:00pm - 7:00pm - Ingkarni Wardli 234</td>', '<td>26/05/2025 - 18/08/2025<br />28/05/2025 - 20/08/2025<br />30/05/2025 - 22/08/2025</td>', '<td>North Terrace Campus</td>', '<td>Enrolled</td>', '<td>33089</td>', '<td>LE01</td>', '<td>COMP SCI</td>', '<td>7211</td>', '<td>9</td>', '<td>M 10:00am - 11:00am - Engineering Nth N158<br />W 10:00am - 11:00am - Engineering Nth N158</td>', '<td>26/05/2025 - 18/08/2025<br />28/05/2025 - 20/08/2025</td>', '<td>North Terrace Campus</td>', '<td>Enrolled</td>', '<td>33290</td>', '<td>WR02</td>', '<td>COMP SCI</td>', '<td>7314</td>', '<td>10</td>', '<td>Th 1:00pm - 3:00pm - Engineering & Mathematics EM105<br />Th 1:00pm - 3:00pm - Engineering & Mathematics EM105<br />Th 1:00pm - 3:00pm - Engineering & Mathematics EM105<br />Th 1:00pm - 3:00pm - Engineering & Mathematics EM105<br />Th 1:00pm - 3:00pm - Engineering & Mathematics EM105<br />Th 1:00pm - 3:00pm - Engineering & Mathematics EM105</td>', '<td>14/08/2025 - 14/08/2025<br />31/07/2025 - 31/07/2025<br />17/07/2025 - 17/07/2025<br />3/07/2025 - 3/07/2025<br />19/06/2025 - 19/06/2025<br />5/06/2025 - 5/06/2025</td>', '<td>North Terrace Campus</td>', '<td>Enrolled</td>', '<td>33287</td>', '<td>LE01</td>', '<td>COMP SCI</td>', '<td>7314</td>', '<td>78</td>', '<td>T 11:00am - 1:00pm - Lower Napier LG29</td>', '<td>27/05/2025 - 19/08/2025</td>', '<td>North Terrace Campus</td>', '<td>Enrolled</td>', '<td>33292</td>', '<td>AS02</td>', '<td>COMP SCI</td>', '<td>7314</td>', '<td>32</td>', '<td>T 5:00pm - 7:00pm - Ingkarni Wardli G22</td>', '<td>19/08/2025 - 19/08/2025</td>', '<td>North Terrace Campus</td>', '<td>Enrolled</td>', '<td>33032</td>', '<td>SE01</td>', '<td>MATHS</td>', '<td>7107</td>', '<td>18</td>', '<td>M 4:00pm - 5:00pm - Napier 208</td>', '<td>26/05/2025 - 18/08/2025</td>', '<td>North Terrace Campus</td>', '<td>Enrolled</td>', '<td>33031</td>', '<td>PR01</td>', '<td>MATHS</td>', '<td>7107</td>', '<td>2</td>', '<td>Th 3:00pm - 4:00pm - Ingkarni Wardli B23</td>', '<td>29/05/2025 - 21/08/2025</td>', '<td>North Terrace Campus</td>', '<td>Enrolled</td>', '<td>33005</td>', '<td>AS01</td>', '<td>MATHS</td>', '<td>7107</td>', \"<td style=3D'border: 1px solid red; background-color: #febebe; font-weight: 500;'>0</td>\", '<td>W 3:00pm - 4:30pm - Engineering & Mathematics EM108</td>', '<td>23/07/2025 - 23/07/2025</td>', '<td>North Terrace Campus</td>', \"<td colspan=3D'9'></td>\"]\n"
     ]
    }
   ],
   "source": [
    "lst1 = new_p.findall(content1)\n",
    "# print(lst1)\n",
    "lst1 = lst1[:-1]\n",
    "# print(len(lst1))"
   ]
  },
  {
   "cell_type": "code",
   "execution_count": 24,
   "metadata": {},
   "outputs": [],
   "source": [
    "clear_p = re.compile('</*?td.*?>')\n",
    "# clear_p2 = re.compile('</td>')\n",
    "for i in range(len(lst1)):\n",
    "    lst1[i] = re.sub(clear_p,'',lst1[i])\n",
    "# print(lst1)"
   ]
  },
  {
   "cell_type": "code",
   "execution_count": 25,
   "metadata": {},
   "outputs": [],
   "source": [
    "# reshape the list to a 2d array\n",
    "lst2 = []\n",
    "for i in range(9):\n",
    "    lst2.append([])\n",
    "    for j in range(len(lst1)//9):\n",
    "        lst2[i].append(lst1[9*j+i])"
   ]
  },
  {
   "cell_type": "code",
   "execution_count": 26,
   "metadata": {},
   "outputs": [
    {
     "name": "stdout",
     "output_type": "stream",
     "text": [
      "[['M 5:00pm - 7:00pm - Ingkarni Wardli 234', 'W 5:00pm - 7:00pm - Ingkarni Wardli 234', 'F 5:00pm - 7:00pm - Ingkarni Wardli 234'], ['M 10:00am - 11:00am - Engineering Nth N158', 'W 10:00am - 11:00am - Engineering Nth N158'], ['Th 1:00pm - 3:00pm - Engineering & Mathematics EM105', 'Th 1:00pm - 3:00pm - Engineering & Mathematics EM105', 'Th 1:00pm - 3:00pm - Engineering & Mathematics EM105', 'Th 1:00pm - 3:00pm - Engineering & Mathematics EM105', 'Th 1:00pm - 3:00pm - Engineering & Mathematics EM105', 'Th 1:00pm - 3:00pm - Engineering & Mathematics EM105'], ['T 11:00am - 1:00pm - Lower Napier LG29'], ['T 5:00pm - 7:00pm - Ingkarni Wardli G22'], ['M 4:00pm - 5:00pm - Napier 208'], ['Th 3:00pm - 4:00pm - Ingkarni Wardli B23'], ['W 3:00pm - 4:30pm - Engineering & Mathematics EM108']]\n"
     ]
    }
   ],
   "source": [
    "# sort all the codes in pandas dataframe\n",
    "# df.columns = ['status','class','section','subject','course','seats open','duration&locations','dates','campus']\n",
    "time_loc = lst2[6]\n",
    "for i in range(len(time_loc)):\n",
    "    time_loc[i] = time_loc[i].split('<br />')\n",
    "# print(time_loc)\n",
    "# time_loc[i][j]"
   ]
  },
  {
   "cell_type": "code",
   "execution_count": 27,
   "metadata": {},
   "outputs": [],
   "source": [
    "dura = lst2[7]\n",
    "for i in range(len(dura)):\n",
    "    dura[i] = dura[i].split('<br />')\n"
   ]
  },
  {
   "cell_type": "code",
   "execution_count": 28,
   "metadata": {},
   "outputs": [
    {
     "name": "stdout",
     "output_type": "stream",
     "text": [
      "[['26/05/2025 - 18/08/2025', '28/05/2025 - 20/08/2025', '30/05/2025 - 22/08/2025'], ['26/05/2025 - 18/08/2025', '28/05/2025 - 20/08/2025'], ['14/08/2025 - 14/08/2025', '31/07/2025 - 31/07/2025', '17/07/2025 - 17/07/2025', '3/07/2025 - 3/07/2025', '19/06/2025 - 19/06/2025', '5/06/2025 - 5/06/2025'], ['27/05/2025 - 19/08/2025'], ['19/08/2025 - 19/08/2025'], ['26/05/2025 - 18/08/2025'], ['29/05/2025 - 21/08/2025'], ['23/07/2025 - 23/07/2025']]\n"
     ]
    }
   ],
   "source": [
    "# print(dura)"
   ]
  },
  {
   "cell_type": "code",
   "execution_count": 29,
   "metadata": {},
   "outputs": [
    {
     "name": "stdout",
     "output_type": "stream",
     "text": [
      "[[(datetime.datetime(2025, 5, 26, 0, 0), datetime.datetime(2025, 8, 18, 0, 0)), (datetime.datetime(2025, 5, 28, 0, 0), datetime.datetime(2025, 8, 20, 0, 0)), (datetime.datetime(2025, 5, 30, 0, 0), datetime.datetime(2025, 8, 22, 0, 0))], [(datetime.datetime(2025, 5, 26, 0, 0), datetime.datetime(2025, 8, 18, 0, 0)), (datetime.datetime(2025, 5, 28, 0, 0), datetime.datetime(2025, 8, 20, 0, 0))], [(datetime.datetime(2025, 8, 14, 0, 0), datetime.datetime(2025, 8, 14, 0, 0)), (datetime.datetime(2025, 7, 31, 0, 0), datetime.datetime(2025, 7, 31, 0, 0)), (datetime.datetime(2025, 7, 17, 0, 0), datetime.datetime(2025, 7, 17, 0, 0)), (datetime.datetime(2025, 7, 3, 0, 0), datetime.datetime(2025, 7, 3, 0, 0)), (datetime.datetime(2025, 6, 19, 0, 0), datetime.datetime(2025, 6, 19, 0, 0)), (datetime.datetime(2025, 6, 5, 0, 0), datetime.datetime(2025, 6, 5, 0, 0))], [(datetime.datetime(2025, 5, 27, 0, 0), datetime.datetime(2025, 8, 19, 0, 0))], [(datetime.datetime(2025, 8, 19, 0, 0), datetime.datetime(2025, 8, 19, 0, 0))], [(datetime.datetime(2025, 5, 26, 0, 0), datetime.datetime(2025, 8, 18, 0, 0))], [(datetime.datetime(2025, 5, 29, 0, 0), datetime.datetime(2025, 8, 21, 0, 0))], [(datetime.datetime(2025, 7, 23, 0, 0), datetime.datetime(2025, 7, 23, 0, 0))]]\n"
     ]
    }
   ],
   "source": [
    "# start time & end time -> datetime.datetime\n",
    "def duration(duradate:str):\n",
    "    duradate = duradate.split(' - ')\n",
    "    start = datetime.datetime.strptime(duradate[0], '%d/%m/%Y')\n",
    "    end = datetime.datetime.strptime(duradate[1], '%d/%m/%Y')\n",
    "    return(start,end)\n",
    "\n",
    "dura_date = []\n",
    "for i in range(len(dura)):\n",
    "    for j in range(len(dura[i])):\n",
    "        dura[i][j] = duration(dura[i][j])\n",
    "\n",
    "# print(dura)\n",
    "# dura[i][j][0] = starttime,dura[i][j][1] = endtime\n",
    "# i = course,j = time duration"
   ]
  },
  {
   "cell_type": "code",
   "execution_count": 30,
   "metadata": {},
   "outputs": [
    {
     "name": "stdout",
     "output_type": "stream",
     "text": [
      "M 5:00pm - 7:00pm - Ingkarni Wardli 234\n"
     ]
    }
   ],
   "source": [
    "# print(time_loc[0][0])"
   ]
  },
  {
   "cell_type": "code",
   "execution_count": 31,
   "metadata": {},
   "outputs": [
    {
     "name": "stdout",
     "output_type": "stream",
     "text": [
      " 7:00pm \n"
     ]
    }
   ],
   "source": [
    "# seperate time & location\n",
    "p2 = r\"^([MTWFS][a-z]*)\\s([\\d:amp\\s]+)-([\\d:amp\\s]+)-\\s(.+)$\"\n",
    "match = re.match(p2,time_loc[0][0])\n",
    "# print(match.group(3))"
   ]
  },
  {
   "cell_type": "code",
   "execution_count": 32,
   "metadata": {},
   "outputs": [],
   "source": [
    "\n",
    "weeks = []\n",
    "time_start = []\n",
    "time_end = []\n",
    "location = []\n",
    "for i in range(len(time_loc)):\n",
    "    weeks.append([])\n",
    "    time_start.append([])\n",
    "    time_end.append([])\n",
    "    location.append([])\n",
    "    for j in range(len(time_loc[i])):\n",
    "        match = re.match(p2,time_loc[i][j])\n",
    "        weeks[i].append(match.group(1))\n",
    "        time_start[i].append(match.group(2).strip())\n",
    "        time_end[i].append(match.group(3).strip())\n",
    "        location[i].append(match.group(4))\n"
   ]
  },
  {
   "cell_type": "code",
   "execution_count": 37,
   "metadata": {},
   "outputs": [
    {
     "data": {
      "text/plain": [
       "'20210228T170000'"
      ]
     },
     "execution_count": 37,
     "metadata": {},
     "output_type": "execute_result"
    }
   ],
   "source": [
    "# start = datetime.datetime(2021,2,28,17,0,0)\n",
    "# start.strftime('%Y%m%dT%H%M%S')"
   ]
  },
  {
   "cell_type": "code",
   "execution_count": 46,
   "metadata": {},
   "outputs": [],
   "source": [
    "# create event for one course\n",
    "def create_event(course:str,start_date,end_date,start_time,end_time,location,campus):\n",
    "    day = start_date\n",
    "    course_events = ''\n",
    "    while day <= end_date:\n",
    "        event = \"\\nBEGIN:VEVENT\"\n",
    "        event += f\"\\nSUMMARY:{course}\"\n",
    "        start = datetime.datetime.strptime((str(day.date())+' '+start_time),'%Y-%m-%d %I:%M%p')\n",
    "        event += f\"\\nDTSTART:{start.strftime('%Y%m%dT%H%M%S')}\"\n",
    "        end = datetime.datetime.strptime((str(day.date())+' '+end_time),'%Y-%m-%d %I:%M%p')\n",
    "        event += f\"\\nDTEND:{end.strftime('%Y%m%dT%H%M%S')}\"\n",
    "        event += f\"\\nUID:{uuid.uuid4()}\"\n",
    "        event += f\"\\nCREATED:{datetime.datetime.now().strftime('%Y%m%dT%H%M%S')}\"\n",
    "        event += f\"\\nDESCRIPTION:{campus}\"\n",
    "        event += f\"\\nLOCATION:{location}\"\n",
    "        day += datetime.timedelta(days = 7)\n",
    "        event += \"\\nEND:VEVENT\"\n",
    "        course_events += event\n",
    "    return course_events"
   ]
  },
  {
   "cell_type": "code",
   "execution_count": 47,
   "metadata": {},
   "outputs": [],
   "source": [
    "with open('Your_timetable.ics','w') as f:\n",
    "    cal = 'BEGIN:VCALENDAR'\n",
    "    for i in range(len(lst2[3])):\n",
    "        for j in range(len(dura[i])):\n",
    "            cal += create_event(lst2[3][i]+' '+ lst2[4][i],dura[i][j][0],dura[i][j][1],time_start[i][j],time_end[i][j],location[i][j],lst2[8][i])\n",
    "    cal += '\\nEND:VCALENDAR'\n",
    "    f.write(cal)"
   ]
  },
  {
   "cell_type": "code",
   "execution_count": 35,
   "metadata": {},
   "outputs": [],
   "source": [
    "#cal = create_event(df['subject'][0]+df['course'][0],dura[0][0][0],dura[0][0][1],time_start[0][0],time_end[0][0],location[0][0],df['campus'][0])\n",
    "#with open('Your_timetable.ics','wb') as f:\n",
    "#    f.write(cal.to_ical())"
   ]
  }
 ],
 "metadata": {
  "kernelspec": {
   "display_name": "base",
   "language": "python",
   "name": "python3"
  },
  "language_info": {
   "codemirror_mode": {
    "name": "ipython",
    "version": 3
   },
   "file_extension": ".py",
   "mimetype": "text/x-python",
   "name": "python",
   "nbconvert_exporter": "python",
   "pygments_lexer": "ipython3",
   "version": "3.12.7"
  }
 },
 "nbformat": 4,
 "nbformat_minor": 2
}
